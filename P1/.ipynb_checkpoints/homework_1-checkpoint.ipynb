{
 "cells": [
  {
   "cell_type": "markdown",
   "metadata": {},
   "source": [
    "<h1><bold>CSE 574: Homework Assignment 1</bold></h1>\n",
    "<h3>Name: Harshdeep Sokhey, UB# 50247213</h3>\n",
    "<h4>Introduction</h4>\n",
    "<p> The dataset contains 4 features, namely,\n",
    "   <ol>\n",
    "       <li> CS Score </li>\n",
    "       <li> Research Overhead</li>\n",
    "       <li> Admin Base Pay</li>\n",
    "       <li> Tuition</li>\n",
    "   </ol>\n",
    "   \n",
    "</p>"
   ]
  },
  {
   "cell_type": "code",
   "execution_count": 31,
   "metadata": {
    "collapsed": true
   },
   "outputs": [],
   "source": [
    "## Problem #1 ## \n",
    "# Step 1 : Reading Data from the data set\n",
    "# Step 2 : Cleaning Data from the data set \n",
    "# Step 3 : Mean Calculation, Plotting Mean\n",
    "# Step 4 : Variance Calculation, Plotting Variance\n",
    "# Step 5 : Standard Deviation Calculation, Plotting SD\n",
    "\n",
    "import pandas as pd\n",
    "import numpy as np\n",
    "%matplotlib inline\n",
    "import matplotlib.pyplot as plt"
   ]
  },
  {
   "cell_type": "markdown",
   "metadata": {},
   "source": [
    "<h4> 1 Solution 1 </h4>\n",
    "<p>\n",
    "Given a set of $N$ samples $x_i$, $i=1,...,N$,\n",
    "<h5> 1.1 Sample Mean</h5>\n",
    "\\begin{align}\n",
    "\\mu = \\frac{1}{N} \\sum_{i=1}^{N} x(i)\n",
    "\\end{align}\n",
    "\n",
    "<h5> 1.2 Variance</h5>\n",
    "\\begin{align}\n",
    "\\sigma^{2} = \\frac{1}{N-1} \\sum_{i=1}^{N} [x(i) - \\mu]^{2}\n",
    "\\end{align}\n",
    "\n",
    "<h5> 1.3 Standard Deviation </h5>\n",
    "\\begin{align}\n",
    "\\sigma = \\sqrt{\\frac{1}{N-1} \\sum_{i=1}^{N} [x(i) - \\mu]^{2}}\n",
    "\\end{align}\n"
   ]
  },
  {
   "cell_type": "code",
   "execution_count": 32,
   "metadata": {
    "collapsed": false
   },
   "outputs": [],
   "source": [
    "## Helper Functions ##\n",
    "\n",
    "'''\n",
    "    Sample Mean(<dataset>,<#samples>)\n",
    "    Calculates the sample mean for the dataset\n",
    "'''\n",
    "def Mu(x,N):\n",
    "    return (1.0/N) * np.sum(x)\n",
    "\n",
    "'''\n",
    "    Variance(<dataset>,<#samples>, <sample_mean>)\n",
    "    Calculates the variance for the dataset\n",
    "'''\n",
    "def Variance(x, N, mu):\n",
    "    return (1.0/(N-1)* np.sum(np.power((x-mu),2)))\n",
    "\n",
    "'''\n",
    "    Sigma(<variance>)\n",
    "    Calculates the Standard Deviation for the dataset\n",
    "'''\n",
    "def Sigma(var):\n",
    "    return np.power(var, 0.5)\n",
    "\n",
    "def Covariance(shift1, shift2, N=49):\n",
    "    return (1.0/N-1)*np.sum((shift1*shift2)) \n",
    "\n",
    "def CovarCoeff(Cov12, sigma1, sigma2):\n",
    "    pass"
   ]
  },
  {
   "cell_type": "markdown",
   "metadata": {},
   "source": [
    "<h5>Reading the input from the xls file</h5>"
   ]
  },
  {
   "cell_type": "code",
   "execution_count": 33,
   "metadata": {
    "collapsed": false
   },
   "outputs": [],
   "source": [
    "univData = pd.read_excel(\"./DataSet/universityData.xlsx\")"
   ]
  },
  {
   "cell_type": "markdown",
   "metadata": {},
   "source": [
    "<h4>Un-cleaned Data</h4>"
   ]
  },
  {
   "cell_type": "code",
   "execution_count": 34,
   "metadata": {
    "collapsed": false
   },
   "outputs": [
    {
     "data": {
      "text/html": [
       "<div>\n",
       "<table border=\"1\" class=\"dataframe\">\n",
       "  <thead>\n",
       "    <tr style=\"text-align: right;\">\n",
       "      <th></th>\n",
       "      <th>rank</th>\n",
       "      <th>name</th>\n",
       "      <th>CS Score (USNews)</th>\n",
       "      <th>Research Overhead %</th>\n",
       "      <th>Admin Base Pay$</th>\n",
       "      <th>Tuition(out-state)$</th>\n",
       "      <th>Grad Student No.</th>\n",
       "      <th>TT Faculty</th>\n",
       "      <th>Lecturers</th>\n",
       "      <th>G-TT Ratio</th>\n",
       "      <th>G-TTL Ratio</th>\n",
       "    </tr>\n",
       "  </thead>\n",
       "  <tbody>\n",
       "    <tr>\n",
       "      <th>0</th>\n",
       "      <td>1.0</td>\n",
       "      <td>University of California—​Berkeley</td>\n",
       "      <td>5.0</td>\n",
       "      <td>57.0</td>\n",
       "      <td>400400.0</td>\n",
       "      <td>25064.0</td>\n",
       "      <td>n</td>\n",
       "      <td>NaN</td>\n",
       "      <td>NaN</td>\n",
       "      <td>NaN</td>\n",
       "      <td>NaN</td>\n",
       "    </tr>\n",
       "    <tr>\n",
       "      <th>1</th>\n",
       "      <td>5.0</td>\n",
       "      <td>University of Illinois—​Urbana-​Champaign</td>\n",
       "      <td>4.6</td>\n",
       "      <td>58.6</td>\n",
       "      <td>512500.0</td>\n",
       "      <td>30228.0</td>\n",
       "      <td>n</td>\n",
       "      <td>59.0</td>\n",
       "      <td>NaN</td>\n",
       "      <td>NaN</td>\n",
       "      <td>NaN</td>\n",
       "    </tr>\n",
       "    <tr>\n",
       "      <th>2</th>\n",
       "      <td>6.0</td>\n",
       "      <td>University of Washington</td>\n",
       "      <td>4.5</td>\n",
       "      <td>54.5</td>\n",
       "      <td>550000.0</td>\n",
       "      <td>33513.0</td>\n",
       "      <td>214</td>\n",
       "      <td>59.0</td>\n",
       "      <td>NaN</td>\n",
       "      <td>NaN</td>\n",
       "      <td>NaN</td>\n",
       "    </tr>\n",
       "    <tr>\n",
       "      <th>3</th>\n",
       "      <td>9.0</td>\n",
       "      <td>Georgia Institute of Technology</td>\n",
       "      <td>4.3</td>\n",
       "      <td>55.9</td>\n",
       "      <td>440000.0</td>\n",
       "      <td>30698.0</td>\n",
       "      <td>n</td>\n",
       "      <td>37.0</td>\n",
       "      <td>NaN</td>\n",
       "      <td>NaN</td>\n",
       "      <td>NaN</td>\n",
       "    </tr>\n",
       "    <tr>\n",
       "      <th>4</th>\n",
       "      <td>9.0</td>\n",
       "      <td>University of Texas—​Austin</td>\n",
       "      <td>4.3</td>\n",
       "      <td>55.0</td>\n",
       "      <td>628190.0</td>\n",
       "      <td>34722.0</td>\n",
       "      <td>176</td>\n",
       "      <td>42.0</td>\n",
       "      <td>NaN</td>\n",
       "      <td>NaN</td>\n",
       "      <td>NaN</td>\n",
       "    </tr>\n",
       "  </tbody>\n",
       "</table>\n",
       "</div>"
      ],
      "text/plain": [
       "   rank                                        name  CS Score (USNews)  \\\n",
       "0   1.0         University of California—​Berkeley                 5.0   \n",
       "1   5.0  University of Illinois—​Urbana-​Champaign                 4.6   \n",
       "2   6.0                   University of Washington                 4.5   \n",
       "3   9.0            Georgia Institute of Technology                 4.3   \n",
       "4   9.0                 University of Texas—​Austin                4.3   \n",
       "\n",
       "   Research Overhead %  Admin Base Pay$  Tuition(out-state)$ Grad Student No.  \\\n",
       "0                 57.0         400400.0              25064.0                n   \n",
       "1                 58.6         512500.0              30228.0                n   \n",
       "2                 54.5         550000.0              33513.0              214   \n",
       "3                 55.9         440000.0              30698.0                n   \n",
       "4                 55.0         628190.0              34722.0              176   \n",
       "\n",
       "   TT Faculty  Lecturers  G-TT Ratio  G-TTL Ratio  \n",
       "0         NaN        NaN         NaN          NaN  \n",
       "1        59.0        NaN         NaN          NaN  \n",
       "2        59.0        NaN         NaN          NaN  \n",
       "3        37.0        NaN         NaN          NaN  \n",
       "4        42.0        NaN         NaN          NaN  "
      ]
     },
     "execution_count": 34,
     "metadata": {},
     "output_type": "execute_result"
    }
   ],
   "source": [
    "univData.head()"
   ]
  },
  {
   "cell_type": "code",
   "execution_count": 35,
   "metadata": {
    "collapsed": false
   },
   "outputs": [],
   "source": [
    "data = univData.ix[:,:6] # new Dataframe"
   ]
  },
  {
   "cell_type": "markdown",
   "metadata": {},
   "source": [
    "<h4>Cleaned Data</h4>"
   ]
  },
  {
   "cell_type": "code",
   "execution_count": 36,
   "metadata": {
    "collapsed": false
   },
   "outputs": [
    {
     "data": {
      "text/html": [
       "<div>\n",
       "<table border=\"1\" class=\"dataframe\">\n",
       "  <thead>\n",
       "    <tr style=\"text-align: right;\">\n",
       "      <th></th>\n",
       "      <th>rank</th>\n",
       "      <th>name</th>\n",
       "      <th>CS Score (USNews)</th>\n",
       "      <th>Research Overhead %</th>\n",
       "      <th>Admin Base Pay$</th>\n",
       "      <th>Tuition(out-state)$</th>\n",
       "    </tr>\n",
       "  </thead>\n",
       "  <tbody>\n",
       "    <tr>\n",
       "      <th>0</th>\n",
       "      <td>1.0</td>\n",
       "      <td>University of California—​Berkeley</td>\n",
       "      <td>5.0</td>\n",
       "      <td>57.0</td>\n",
       "      <td>400400.0</td>\n",
       "      <td>25064.0</td>\n",
       "    </tr>\n",
       "    <tr>\n",
       "      <th>1</th>\n",
       "      <td>5.0</td>\n",
       "      <td>University of Illinois—​Urbana-​Champaign</td>\n",
       "      <td>4.6</td>\n",
       "      <td>58.6</td>\n",
       "      <td>512500.0</td>\n",
       "      <td>30228.0</td>\n",
       "    </tr>\n",
       "    <tr>\n",
       "      <th>2</th>\n",
       "      <td>6.0</td>\n",
       "      <td>University of Washington</td>\n",
       "      <td>4.5</td>\n",
       "      <td>54.5</td>\n",
       "      <td>550000.0</td>\n",
       "      <td>33513.0</td>\n",
       "    </tr>\n",
       "    <tr>\n",
       "      <th>3</th>\n",
       "      <td>9.0</td>\n",
       "      <td>Georgia Institute of Technology</td>\n",
       "      <td>4.3</td>\n",
       "      <td>55.9</td>\n",
       "      <td>440000.0</td>\n",
       "      <td>30698.0</td>\n",
       "    </tr>\n",
       "    <tr>\n",
       "      <th>4</th>\n",
       "      <td>9.0</td>\n",
       "      <td>University of Texas—​Austin</td>\n",
       "      <td>4.3</td>\n",
       "      <td>55.0</td>\n",
       "      <td>628190.0</td>\n",
       "      <td>34722.0</td>\n",
       "    </tr>\n",
       "  </tbody>\n",
       "</table>\n",
       "</div>"
      ],
      "text/plain": [
       "   rank                                        name  CS Score (USNews)  \\\n",
       "0   1.0         University of California—​Berkeley                 5.0   \n",
       "1   5.0  University of Illinois—​Urbana-​Champaign                 4.6   \n",
       "2   6.0                   University of Washington                 4.5   \n",
       "3   9.0            Georgia Institute of Technology                 4.3   \n",
       "4   9.0                 University of Texas—​Austin                4.3   \n",
       "\n",
       "   Research Overhead %  Admin Base Pay$  Tuition(out-state)$  \n",
       "0                 57.0         400400.0              25064.0  \n",
       "1                 58.6         512500.0              30228.0  \n",
       "2                 54.5         550000.0              33513.0  \n",
       "3                 55.9         440000.0              30698.0  \n",
       "4                 55.0         628190.0              34722.0  "
      ]
     },
     "execution_count": 36,
     "metadata": {},
     "output_type": "execute_result"
    }
   ],
   "source": [
    "data.head()"
   ]
  },
  {
   "cell_type": "code",
   "execution_count": 37,
   "metadata": {
    "collapsed": false
   },
   "outputs": [],
   "source": [
    "csScore = data[\"CS Score (USNews)\"]\n",
    "resLoad = data[\"Research Overhead %\"]\n",
    "adBasePay = data[\"Admin Base Pay$\"]\n",
    "tuitionOoS = data[\"Tuition(out-state)$\"]"
   ]
  },
  {
   "cell_type": "code",
   "execution_count": 38,
   "metadata": {
    "collapsed": false
   },
   "outputs": [],
   "source": [
    "# for sample CS Score \n",
    "mu1 = Mu(csScore, 49)\n",
    "var1 = Variance(csScore,49, mu1)\n",
    "sigma1 = Sigma(var1)\n",
    "\n",
    "# for Research Overload\n",
    "mu2 = Mu(resLoad, 49)\n",
    "var2 = Variance(resLoad,49, mu2)\n",
    "sigma2 = Sigma(var2)\n",
    "\n",
    "#for Admin Base Pay\n",
    "mu3 = Mu(adBasePay, 49)\n",
    "var3 = Variance(adBasePay,49, mu3)\n",
    "sigma3 = Sigma(var3)\n",
    "\n",
    "#for Tuition Out-of-State\n",
    "mu4 = Mu(tuitionOoS, 49)\n",
    "var4 = Variance(tuitionOoS,49, mu4)\n",
    "sigma4 = Sigma(var4)"
   ]
  },
  {
   "cell_type": "markdown",
   "metadata": {},
   "source": [
    "<h4>Mean, Variance, Standard Deviation for CS Score </h4>"
   ]
  },
  {
   "cell_type": "code",
   "execution_count": 39,
   "metadata": {
    "collapsed": false
   },
   "outputs": [
    {
     "name": "stdout",
     "output_type": "stream",
     "text": [
      "3.21428571429\n",
      "Mean: 3.21 (3.21)\n",
      "Variance: 0.46 (0.45)\n",
      "Standard Deviation: 0.68 (0.67)\n"
     ]
    }
   ],
   "source": [
    "print(mu1)\n",
    "print('Mean: {:.2f} ({:.2f})'.format(mu1, np.mean(csScore)))\n",
    "print('Variance: {:.2f} ({:.2f})'.format(var1, np.var(csScore)))\n",
    "print('Standard Deviation: {:.2f} ({:.2f})'.format(sigma1, np.std(csScore)))"
   ]
  },
  {
   "cell_type": "markdown",
   "metadata": {},
   "source": [
    "<h4>Mean, Variance, Standard Deviation for Research Load </h4>"
   ]
  },
  {
   "cell_type": "code",
   "execution_count": 40,
   "metadata": {
    "collapsed": false
   },
   "outputs": [
    {
     "name": "stdout",
     "output_type": "stream",
     "text": [
      "Mean: 53.39 (53.39)\n",
      "Variance: 12.85 (12.59)\n",
      "Standard Deviation: 3.58 (3.55)\n"
     ]
    }
   ],
   "source": [
    "print('Mean: {:.2f} ({:.2f})'.format(mu2, np.mean(resLoad)))\n",
    "print('Variance: {:.2f} ({:.2f})'.format(var2, np.var(resLoad)))\n",
    "print('Standard Deviation: {:.2f} ({:.2f})'.format(sigma2, np.std(resLoad)))"
   ]
  },
  {
   "cell_type": "markdown",
   "metadata": {},
   "source": [
    "<h4>Mean, Variance, Standard Deviation for Admin Base Pay </h4>"
   ]
  },
  {
   "cell_type": "code",
   "execution_count": 41,
   "metadata": {
    "collapsed": false
   },
   "outputs": [
    {
     "name": "stdout",
     "output_type": "stream",
     "text": [
      "Mean: 469178.82 (469178.82)\n",
      "Variance: 14189720820.90 (13900134681.70)\n",
      "Standard Deviation: 119120.61 (117898.83)\n"
     ]
    }
   ],
   "source": [
    "print('Mean: {:.2f} ({:.2f})'.format(mu3, np.mean(adBasePay)))\n",
    "print('Variance: {:.2f} ({:.2f})'.format(var3, np.var(adBasePay)))\n",
    "print('Standard Deviation: {:.2f} ({:.2f})'.format(sigma3, np.std(adBasePay)))"
   ]
  },
  {
   "cell_type": "markdown",
   "metadata": {},
   "source": [
    "<h4>Mean, Variance, Standard Deviation for Tuition Out-of-State </h4>"
   ]
  },
  {
   "cell_type": "code",
   "execution_count": 42,
   "metadata": {
    "collapsed": false
   },
   "outputs": [
    {
     "name": "stdout",
     "output_type": "stream",
     "text": [
      "Mean: 29711.96 (29711.96)\n",
      "Variance: 31367695.79 (30727538.73)\n",
      "Standard Deviation: 5600.69 (5543.24)\n"
     ]
    }
   ],
   "source": [
    "print('Mean: {:.2f} ({:.2f})'.format(mu4, np.mean(tuitionOoS)))\n",
    "print('Variance: {:.2f} ({:.2f})'.format(var4, np.var(tuitionOoS)))\n",
    "print('Standard Deviation: {:.2f} ({:.2f})'.format(sigma4, np.std(tuitionOoS)))"
   ]
  },
  {
   "cell_type": "markdown",
   "metadata": {
    "collapsed": true
   },
   "source": [
    "<h4> 2 Solution 2 </h4>\n",
    "<h5> Covariance</h5>\n",
    "<p> The sample covariance of a pair of variables $X_1$,$X_2$ with samples $x_1(i)$, $x_2(i)$, $i = 1,..,N$ ,where $N$ is the number of samples ,is \n",
    "\\begin{align}\n",
    "\\sigma_{12} = \\frac{1}{N-1} \\sum_{n=1}^{N} [x_1(i) - \\mu_1][x_2(i) - \\mu_2]\n",
    "\\end{align}\n",
    "</p>\n",
    "<h5>Covariance Matrix</h5>\n",
    "The covariance matrix is a set of 'd' variables $X = \\{X_1, X_2, ..., X_d\\}$\n",
    "\\begin{align}\n",
    "\\Sigma = \n",
    "\\begin{bmatrix}\n",
    "\\sigma_1^{2}&\\sigma_{12}&\\sigma_{13}&\\sigma_{14} \\\\\n",
    "\\sigma_{21}&\\sigma_2^{2}&\\sigma_{23}&\\sigma_{24} \\\\\n",
    "\\sigma_{31}&\\sigma_{32}&\\sigma_3^{2}&\\sigma_{34} \\\\\n",
    "\\sigma_{41}&\\sigma_{42}&\\sigma_{43}&\\sigma_4^{2} \\\\\n",
    "\\end{bmatrix}\n",
    "\\end{align}"
   ]
  },
  {
   "cell_type": "code",
   "execution_count": 44,
   "metadata": {
    "collapsed": false
   },
   "outputs": [
    {
     "name": "stdout",
     "output_type": "stream",
     "text": [
      "[[ nan  nan  nan  nan]\n",
      " [ nan  nan  nan  nan]\n",
      " [ nan  nan  nan  nan]\n",
      " [ nan  nan  nan  nan]]\n",
      "[[0.67638746292343399, -51.986938775510197, -182428.92594752173, -49770.150437317767], [-51.986938775510197, 3.5847477828526046, -3304564.9679300287, -131929.34344023326], [-182428.92594752173, -3304564.9679300287, 119120.61459253416, 7696565662.4006672], [-49770.150437317767, -131929.34344023326, 7696565662.4006672, 5600.6870819539618]]\n"
     ]
    }
   ],
   "source": [
    "shift1 = (csScore - mu1)\n",
    "shift2 = (resLoad - mu2)\n",
    "shift3 = (adBasePay - mu3)\n",
    "shift4 = (tuitionOoS - mu4)\n",
    "\n",
    "sigma12 = Covariance(shift1, shift2)\n",
    "sigma13 = Covariance(shift1, shift3)\n",
    "sigma14 = Covariance(shift1, shift4)\n",
    "\n",
    "sigma21 = Covariance(shift2, shift1)\n",
    "sigma23 = Covariance(shift2, shift3)\n",
    "sigma24 = Covariance(shift2, shift4)\n",
    "\n",
    "sigma31 = Covariance(shift3, shift1)\n",
    "sigma32 = Covariance(shift3, shift2)\n",
    "sigma34 = Covariance(shift3, shift4)\n",
    "\n",
    "sigma41 = Covariance(shift4, shift1)\n",
    "sigma42 = Covariance(shift4, shift2)\n",
    "sigma43 = Covariance(shift4, shift3)\n",
    "\n",
    "#using formaula\n",
    "covarianceMat = [[sigma1, sigma12, sigma13, sigma14],\n",
    "                 [sigma21, sigma2, sigma23, sigma24],\n",
    "                 [sigma31, sigma32, sigma3, sigma34],\n",
    "                 [sigma41, sigma42, sigma43, sigma4]]\n",
    "\n",
    "#using built-in function\n",
    "X = np.array([csScore,resLoad,adBasePay,tuitionOoS])\n",
    "covMat = np.cov(X,ddof=1)\n",
    "#print(csScore.shape)\n",
    "print(covMat)\n",
    "print(covarianceMat)"
   ]
  },
  {
   "cell_type": "markdown",
   "metadata": {},
   "source": [
    "<h5>Correlation Coefficient</h5>\n",
    "<p> The correlation coefficient is the normalized covariance given by\n",
    "\\begin{align}\n",
    "\\rho_{X,Y} = \\frac{Cov(X,Y)}{\\sigma_X \\sigma_Y}\n",
    "\\end{align}\n",
    "</p>"
   ]
  },
  {
   "cell_type": "code",
   "execution_count": 45,
   "metadata": {
    "collapsed": false
   },
   "outputs": [],
   "source": [
    "rho12 = sigma12/(sigma1* sigma2)\n",
    "rho13 = sigma13/(sigma1* sigma3)\n",
    "rho14 = sigma14/(sigma1* sigma4)\n",
    "\n",
    "rho23 = sigma23/(sigma2* sigma3)\n",
    "rho24 = sigma24/(sigma2* sigma4)\n",
    "\n",
    "rho34 = sigma34/(sigma3* sigma4)\n",
    "\n",
    "\n",
    "correlationMat = [[1, rho12, rho13, rho14],\n",
    "                  [1, 1, rho23, rho24],\n",
    "                  [1, 1, 1,rho34]]\n"
   ]
  },
  {
   "cell_type": "code",
   "execution_count": 46,
   "metadata": {
    "collapsed": false
   },
   "outputs": [
    {
     "name": "stdout",
     "output_type": "stream",
     "text": [
      "[[1, -21.440755825833428, -2.2641814426343077, -13.138085853937291], [1, 1, -7.7387134220057971, -6.5711516134552603], [1, 1, 1, 11.536358529567769]]\n"
     ]
    }
   ],
   "source": [
    "print(correlationMat)"
   ]
  },
  {
   "cell_type": "code",
   "execution_count": 51,
   "metadata": {
    "collapsed": false
   },
   "outputs": [
    {
     "ename": "NameError",
     "evalue": "name 'scatter_matrix' is not defined",
     "output_type": "error",
     "traceback": [
      "\u001b[1;31m---------------------------------------------------------------------------\u001b[0m",
      "\u001b[1;31mNameError\u001b[0m                                 Traceback (most recent call last)",
      "\u001b[1;32m<ipython-input-51-552403918882>\u001b[0m in \u001b[0;36m<module>\u001b[1;34m()\u001b[0m\n\u001b[1;32m----> 1\u001b[1;33m \u001b[0mscatter_matrix\u001b[0m\u001b[1;33m(\u001b[0m\u001b[0mcorrelationMat\u001b[0m\u001b[1;33m)\u001b[0m\u001b[1;33m\u001b[0m\u001b[0m\n\u001b[0m\u001b[0;32m      2\u001b[0m \u001b[1;31m#fig = plt.figure()\u001b[0m\u001b[1;33m\u001b[0m\u001b[1;33m\u001b[0m\u001b[0m\n\u001b[0;32m      3\u001b[0m \u001b[1;31m#axis= fig.add_subplot(111)\u001b[0m\u001b[1;33m\u001b[0m\u001b[1;33m\u001b[0m\u001b[0m\n\u001b[0;32m      4\u001b[0m \u001b[1;31m#corrMat = axis.matshow()\u001b[0m\u001b[1;33m\u001b[0m\u001b[1;33m\u001b[0m\u001b[0m\n",
      "\u001b[1;31mNameError\u001b[0m: name 'scatter_matrix' is not defined"
     ]
    }
   ],
   "source": [
    "scatter_matrix(correlationMat)\n",
    "#fig = plt.figure()\n",
    "#axis= fig.add_subplot(111)\n",
    "#corrMat = axis.matshow()"
   ]
  },
  {
   "cell_type": "code",
   "execution_count": null,
   "metadata": {
    "collapsed": true
   },
   "outputs": [],
   "source": []
  },
  {
   "cell_type": "code",
   "execution_count": null,
   "metadata": {
    "collapsed": true
   },
   "outputs": [],
   "source": []
  }
 ],
 "metadata": {
  "kernelspec": {
   "display_name": "Python 3",
   "language": "python",
   "name": "python3"
  },
  "language_info": {
   "codemirror_mode": {
    "name": "ipython",
    "version": 3
   },
   "file_extension": ".py",
   "mimetype": "text/x-python",
   "name": "python",
   "nbconvert_exporter": "python",
   "pygments_lexer": "ipython3",
   "version": "3.5.2"
  }
 },
 "nbformat": 4,
 "nbformat_minor": 2
}
